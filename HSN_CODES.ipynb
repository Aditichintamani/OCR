{
 "cells": [
  {
   "cell_type": "code",
   "execution_count": 15,
   "metadata": {},
   "outputs": [],
   "source": [
    "import cv2\n",
    "import pytesseract\n",
    "from pytesseract import image_to_string\n",
    "img = cv2.imread('./HSN.jpg')\n",
    "img = cv2.cvtColor(img, cv2.COLOR_BGR2GRAY)\n",
    "eway = pytesseract.image_to_string(img, lang=\"eng\")\n",
    "#print(eway)"
   ]
  },
  {
   "cell_type": "code",
   "execution_count": 2,
   "metadata": {},
   "outputs": [],
   "source": [
    "def Convert(string): \n",
    "    li = list(string.split(\"\\n\\n\")) \n",
    "    return li"
   ]
  },
  {
   "cell_type": "code",
   "execution_count": 7,
   "metadata": {},
   "outputs": [
    {
     "name": "stdout",
     "output_type": "stream",
     "text": [
      "['HSN\\nCode', '24022090', '24022030', '24022040', 'Product Descripition', 'CIGARETTES', 'CIGARETTES', 'CIGARETTES', 'Quantity', '1660.00\\nTHD', '12,00 THD', '6316.00\\nTHD', 'Taxable Amount', 'Rs,', '8339089.68', '19102,93', '13558237.99', 'Tax Rate (C+S+l+Cess+Cess\\nNon.Advol)', 'NA+NA+28.000+36.000+4170.00', 'NA+NA+28.000+5,000+2076.00 _', 'NA+NA+28,000+5.000+2747.00 |']\n"
     ]
    }
   ],
   "source": [
    "eway_list=Convert(eway)\n",
    "print(eway_list)"
   ]
  },
  {
   "cell_type": "code",
   "execution_count": 16,
   "metadata": {},
   "outputs": [
    {
     "name": "stdout",
     "output_type": "stream",
     "text": [
      "['HSN\\nCode', '24022090', '24022030', '24022040', 'Product Descripition', 'CIGARETTES', 'CIGARETTES', 'CIGARETTES', 'Quantity', '1660.00\\nTHD', '12,00 THD', '6316.00\\nTHD', 'Taxable Amount', 'Rs,', '8339089.68', '19102,93', '13558237.99', 'Tax Rate (C+S+l+Cess+Cess\\nNon.Advol)', 'NA+NA+28.000+36.000+4170.00', 'NA+NA+28.000+5,000+2076.00 _', 'NA+NA+28,000+5.000+2747.00 |']\n",
      "------------------\n",
      "['HSN\\nCode', '24022090', '24022030', '24022040']\n",
      "------------------\n",
      "['Quantity', '1660.00\\nTHD', '12,00 THD', '6316.00\\nTHD']\n",
      "------------------\n",
      "['Taxable Amount', 'Rs,', '8339089.68', '19102,93', '13558237.99']\n",
      "------------------\n",
      "['Tax Rate (C+S+l+Cess+Cess\\nNon.Advol)', 'NA+NA+28.000+36.000+4170.00', 'NA+NA+28.000+5,000+2076.00 _', 'NA+NA+28,000+5.000+2747.00 |']\n"
     ]
    }
   ],
   "source": [
    "#print(converted_str_to_list)\n",
    "index0 = eway_list.index('Product Descripition')\n",
    "index1 = eway_list.index('Quantity')\n",
    "index2 = eway_list.index('Taxable Amount')\n",
    "index3 = eway_list.index('Tax Rate (C+S+l+Cess+Cess\\nNon.Advol)')\n",
    "\n",
    "HSN_CODES = eway_list[0:index0]\n",
    "QUANTITY = eway_list[index1:index2]\n",
    "TAXABLE_AMOUNT = eway_list[index2:index3]\n",
    "TAXABLE_RATE = eway_list[index3:len(eway_list)]\n",
    "\n",
    "print(eway_list)\n",
    "print(\"------------------\")\n",
    "print(HSN_CODES)\n",
    "print(\"------------------\")\n",
    "print(QUANTITY)\n",
    "print(\"------------------\")\n",
    "print(TAXABLE_AMOUNT)\n",
    "print(\"------------------\")\n",
    "print(TAXABLE_RATE)\n"
   ]
  },
  {
   "cell_type": "code",
   "execution_count": 19,
   "metadata": {},
   "outputs": [
    {
     "name": "stdout",
     "output_type": "stream",
     "text": [
      "24099970 | GALT11 | GALT11 kG | 2880.000] 502.36 | 1,446,796.80 1,446,796.80 | 28.00 | 405103.11 | 0.00 | 0.00 | 20.00 | 289359.36 | 0.00 | 0.00 | 2141259.27\n"
     ]
    }
   ],
   "source": [
    "img = cv2.imread('./Screenshot (175).png')\n",
    "img = cv2.cvtColor(img, cv2.COLOR_BGR2GRAY)\n",
    "invoice = pytesseract.image_to_string(img, lang=\"eng\")\n",
    "print(invoice)"
   ]
  },
  {
   "cell_type": "code",
   "execution_count": 22,
   "metadata": {},
   "outputs": [],
   "source": [
    "def Convert(string): \n",
    "    li = list(string.split(\"|\")) \n",
    "    return li"
   ]
  },
  {
   "cell_type": "code",
   "execution_count": 23,
   "metadata": {},
   "outputs": [
    {
     "name": "stdout",
     "output_type": "stream",
     "text": [
      "['24099970 ', ' GALT11 ', ' GALT11 kG ', ' 2880.000] 502.36 ', ' 1,446,796.80 1,446,796.80 ', ' 28.00 ', ' 405103.11 ', ' 0.00 ', ' 0.00 ', ' 20.00 ', ' 289359.36 ', ' 0.00 ', ' 0.00 ', ' 2141259.27']\n"
     ]
    }
   ],
   "source": [
    "invoice_list=Convert(invoice)\n",
    "print(invoice_list)"
   ]
  },
  {
   "cell_type": "code",
   "execution_count": 27,
   "metadata": {},
   "outputs": [],
   "source": [
    "HSN_invoice=invoice_list[0]"
   ]
  },
  {
   "cell_type": "code",
   "execution_count": 29,
   "metadata": {},
   "outputs": [
    {
     "name": "stdout",
     "output_type": "stream",
     "text": [
      "HSN code from invoice 24099970 \n",
      "HSN code from e-way bill ['HSN\\nCode', '24022090', '24022030', '24022040']\n",
      "------------------\n",
      "no matching found\n"
     ]
    }
   ],
   "source": [
    "print(\"HSN code from invoice\",HSN_invoice)\n",
    "print(\"HSN code from e-way bill\",HSN_CODES)\n",
    "if any(HSN_invoice in s for s in HSN_CODES):\n",
    "    print(\"these are matching\\n\")\n",
    "    print(HSN_CODES = [s for s in HSN_CODES if HSN_INVOICE in s])\n",
    "#print(\"---processing---\")    \n",
    "else:\n",
    "    print(\"------------------\")\n",
    "    print(\"no matching found\")"
   ]
  },
  {
   "cell_type": "code",
   "execution_count": null,
   "metadata": {},
   "outputs": [],
   "source": []
  }
 ],
 "metadata": {
  "kernelspec": {
   "display_name": "Python 3",
   "language": "python",
   "name": "python3"
  },
  "language_info": {
   "codemirror_mode": {
    "name": "ipython",
    "version": 3
   },
   "file_extension": ".py",
   "mimetype": "text/x-python",
   "name": "python",
   "nbconvert_exporter": "python",
   "pygments_lexer": "ipython3",
   "version": "3.6.7"
  }
 },
 "nbformat": 4,
 "nbformat_minor": 2
}
